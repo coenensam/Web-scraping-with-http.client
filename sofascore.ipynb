{
 "cells": [
  {
   "cell_type": "markdown",
   "id": "21b4310d",
   "metadata": {},
   "source": [
    "# Votes Vs Odds"
   ]
  },
  {
   "cell_type": "code",
   "execution_count": 1,
   "id": "e7ab9e8b",
   "metadata": {},
   "outputs": [],
   "source": [
    "import pandas as pd\n",
    "import numpy as np\n",
    "\n",
    "df = pd.read_excel('sofascore_data.xlsx')\n",
    "\n",
    "# Re-calculate implied probabilities for odds\n",
    "df['impl prob home'] = df['odd away'] / (df['odd away'] + df['odd home'])\n",
    "df['impl prob away'] = df['odd home'] / (df['odd away'] + df['odd home'])"
   ]
  },
  {
   "cell_type": "markdown",
   "id": "1cd62e85",
   "metadata": {},
   "source": [
    "### Run betting simulation where we bet against voters when discrepancy between votes and odds is large. Calculate profit per bet."
   ]
  },
  {
   "cell_type": "code",
   "execution_count": 205,
   "id": "7dba82bd",
   "metadata": {},
   "outputs": [],
   "source": [
    "discrepancies = np.arange(0, 1, 0.1)\n",
    "votes_ = np.arange(1000, 10000, 1000)\n",
    "\n",
    "bets = []\n",
    "\n",
    "for discrepancy in discrepancies:\n",
    "    for votes in votes_:\n",
    "        high_votes = df[df['total votes'] > votes]\n",
    "        high_votes = high_votes[(abs(high_votes['votes prob away'] - high_votes['impl prob away'])/high_votes['votes prob away'] > discrepancy) |\n",
    "                                (abs(high_votes['votes prob home'] - high_votes['impl prob home'])/high_votes['votes prob home'] > discrepancy)]\n",
    "\n",
    "        if len(high_votes) < 100:\n",
    "            break\n",
    "        \n",
    "        balance = 1000\n",
    "        unit_bet = 1\n",
    "\n",
    "        for id, event in high_votes.iterrows():\n",
    "            if event['votes prob away'] > event['impl prob away']:\n",
    "                \n",
    "                bet = {'Event': event['players'],\n",
    "                      'Sign': 1,\n",
    "                      'Outcome': event['winner'],\n",
    "                      'Profit': unit_bet-unit_bet / event['odd home'] if event['winner'] == 1 else -unit_bet / event['odd home'],\n",
    "                      'Odds': event['odd home'],\n",
    "                      'votes threshold': votes,\n",
    "                      'discrepancy': discrepancy\n",
    "                      }\n",
    "                bets.append(bet)\n",
    "                balance += bet['Profit']\n",
    "                \n",
    "            if event['votes prob away'] < event['impl prob away']:\n",
    "                \n",
    "                bet = {'Event': event['players'],\n",
    "                      'Sign': 2,\n",
    "                      'Outcome': event['winner'],\n",
    "                      'Profit': unit_bet-unit_bet / event['odd away'] if event['winner'] == 2 else -unit_bet / event['odd away'],\n",
    "                      'Odds': event['odd away'],\n",
    "                      'votes threshold': votes,\n",
    "                      'discrepancy': discrepancy\n",
    "                      }\n",
    "                bets.append(bet)\n",
    "                balance += bet['Profit']\n",
    "\n",
    "bets = pd.DataFrame(bets)"
   ]
  },
  {
   "cell_type": "markdown",
   "id": "74cbd0b9",
   "metadata": {},
   "source": [
    "### Create graph for profit per bet vs 'votes threshold' and 'discrepancy'"
   ]
  },
  {
   "cell_type": "code",
   "execution_count": 198,
   "id": "e904498d",
   "metadata": {},
   "outputs": [
    {
     "name": "stderr",
     "output_type": "stream",
     "text": [
      "C:\\Users\\SamCoenenSYMSON\\AppData\\Local\\Temp\\ipykernel_17592\\2757529495.py:1: DeprecationWarning:\n",
      "\n",
      "DataFrameGroupBy.apply operated on the grouping columns. This behavior is deprecated, and in a future version of pandas the grouping columns will be excluded from the operation. Either pass `include_groups=False` to exclude the groupings or explicitly select the grouping columns after groupby to silence this warning.\n",
      "\n"
     ]
    },
    {
     "data": {
      "application/vnd.plotly.v1+json": {
       "config": {
        "plotlyServerURL": "https://plot.ly"
       },
       "data": [
        {
         "colorscale": [
          [
           0,
           "#440154"
          ],
          [
           0.1111111111111111,
           "#482878"
          ],
          [
           0.2222222222222222,
           "#3e4989"
          ],
          [
           0.3333333333333333,
           "#31688e"
          ],
          [
           0.4444444444444444,
           "#26828e"
          ],
          [
           0.5555555555555556,
           "#1f9e89"
          ],
          [
           0.6666666666666666,
           "#35b779"
          ],
          [
           0.7777777777777778,
           "#6ece58"
          ],
          [
           0.8888888888888888,
           "#b5de2b"
          ],
          [
           1,
           "#fde725"
          ]
         ],
         "contours": {
          "z": {
           "highlightcolor": "limegreen",
           "project": {
            "z": true
           },
           "show": true,
           "usecolormap": true
          }
         },
         "type": "surface",
         "x": [
          [
           1000,
           2000,
           3000,
           4000,
           5000,
           6000,
           7000,
           8000,
           9000
          ],
          [
           1000,
           2000,
           3000,
           4000,
           5000,
           6000,
           7000,
           8000,
           9000
          ],
          [
           1000,
           2000,
           3000,
           4000,
           5000,
           6000,
           7000,
           8000,
           9000
          ],
          [
           1000,
           2000,
           3000,
           4000,
           5000,
           6000,
           7000,
           8000,
           9000
          ],
          [
           1000,
           2000,
           3000,
           4000,
           5000,
           6000,
           7000,
           8000,
           9000
          ],
          [
           1000,
           2000,
           3000,
           4000,
           5000,
           6000,
           7000,
           8000,
           9000
          ],
          [
           1000,
           2000,
           3000,
           4000,
           5000,
           6000,
           7000,
           8000,
           9000
          ],
          [
           1000,
           2000,
           3000,
           4000,
           5000,
           6000,
           7000,
           8000,
           9000
          ],
          [
           1000,
           2000,
           3000,
           4000,
           5000,
           6000,
           7000,
           8000,
           9000
          ],
          [
           1000,
           2000,
           3000,
           4000,
           5000,
           6000,
           7000,
           8000,
           9000
          ]
         ],
         "y": [
          [
           0,
           0,
           0,
           0,
           0,
           0,
           0,
           0,
           0
          ],
          [
           0.1,
           0.1,
           0.1,
           0.1,
           0.1,
           0.1,
           0.1,
           0.1,
           0.1
          ],
          [
           0.2,
           0.2,
           0.2,
           0.2,
           0.2,
           0.2,
           0.2,
           0.2,
           0.2
          ],
          [
           0.30000000000000004,
           0.30000000000000004,
           0.30000000000000004,
           0.30000000000000004,
           0.30000000000000004,
           0.30000000000000004,
           0.30000000000000004,
           0.30000000000000004,
           0.30000000000000004
          ],
          [
           0.4,
           0.4,
           0.4,
           0.4,
           0.4,
           0.4,
           0.4,
           0.4,
           0.4
          ],
          [
           0.5,
           0.5,
           0.5,
           0.5,
           0.5,
           0.5,
           0.5,
           0.5,
           0.5
          ],
          [
           0.6000000000000001,
           0.6000000000000001,
           0.6000000000000001,
           0.6000000000000001,
           0.6000000000000001,
           0.6000000000000001,
           0.6000000000000001,
           0.6000000000000001,
           0.6000000000000001
          ],
          [
           0.7000000000000001,
           0.7000000000000001,
           0.7000000000000001,
           0.7000000000000001,
           0.7000000000000001,
           0.7000000000000001,
           0.7000000000000001,
           0.7000000000000001,
           0.7000000000000001
          ],
          [
           0.8,
           0.8,
           0.8,
           0.8,
           0.8,
           0.8,
           0.8,
           0.8,
           0.8
          ],
          [
           0.9,
           0.9,
           0.9,
           0.9,
           0.9,
           0.9,
           0.9,
           0.9,
           0.9
          ]
         ],
         "z": [
          [
           -0.026299282497124772,
           -0.015935552082846905,
           -0.0024346467085240918,
           -0.002842687779654593,
           -0.01749058355945144,
           -0.0008537027237965985,
           -0.017922812961047335,
           -0.020403363070376924,
           -0.0261124102627502
          ],
          [
           -0.026860090752857484,
           -0.018982167451696577,
           -0.00022685171618516388,
           0.003330168834626203,
           -0.019404916749307895,
           -0.004588231737947807,
           -0.020241145379807663,
           -0.024564580847150207,
           -0.02340581207444121
          ],
          [
           -0.024530175139789136,
           -0.015686265652340037,
           0.0036881905059313507,
           0.003299337198274078,
           -0.017956061178395308,
           -0.008424110179397615,
           -0.023423131122754865,
           -0.032141839866882564,
           -0.025054612784559747
          ],
          [
           -0.026860052426003964,
           -0.01579925277267343,
           0.004245716110549431,
           0.003205650732347155,
           -0.018111947005500957,
           -0.006101361536489533,
           -0.01139331551704251,
           -0.00954360774924477,
           null
          ],
          [
           -0.024007780415511406,
           -0.008743062942900537,
           0.014590065531689369,
           0.020582802537684058,
           0.006659428583383268,
           0.01818915947738238,
           0.002247680017469723,
           null,
           null
          ],
          [
           -0.029199442157677315,
           -0.016193846991672093,
           0.0067904240856844645,
           0.01185728184088526,
           -0.0008391110289499857,
           0.012462872846385732,
           null,
           null,
           null
          ],
          [
           -0.03155807789862391,
           -0.015247823904572222,
           0.007315388581459405,
           0.016773591395604567,
           0.002073225807723277,
           0.0208941785731648,
           null,
           null,
           null
          ],
          [
           -0.035646809511332346,
           -0.015848139521412907,
           0.011368901002328572,
           0.022696539897518662,
           0.01044289136928106,
           null,
           null,
           null,
           null
          ],
          [
           -0.029972698817004338,
           -0.015047619276114753,
           0.01225098203341308,
           0.014223791113137877,
           0.005488541536528147,
           null,
           null,
           null,
           null
          ],
          [
           -0.034334771318777324,
           -0.016948697367767426,
           0.008019869451970892,
           0.01488905837300338,
           0.006135218210433348,
           null,
           null,
           null,
           null
          ]
         ]
        }
       ],
       "layout": {
        "autosize": true,
        "height": 700,
        "margin": {
         "b": 50,
         "l": 50,
         "r": 50,
         "t": 50
        },
        "scene": {
         "xaxis": {
          "title": {
           "text": "Votes Threshold"
          }
         },
         "yaxis": {
          "title": {
           "text": "Discrepancy"
          }
         },
         "zaxis": {
          "title": {
           "text": "Profit per Bet"
          }
         }
        },
        "template": {
         "data": {
          "bar": [
           {
            "error_x": {
             "color": "#2a3f5f"
            },
            "error_y": {
             "color": "#2a3f5f"
            },
            "marker": {
             "line": {
              "color": "#E5ECF6",
              "width": 0.5
             },
             "pattern": {
              "fillmode": "overlay",
              "size": 10,
              "solidity": 0.2
             }
            },
            "type": "bar"
           }
          ],
          "barpolar": [
           {
            "marker": {
             "line": {
              "color": "#E5ECF6",
              "width": 0.5
             },
             "pattern": {
              "fillmode": "overlay",
              "size": 10,
              "solidity": 0.2
             }
            },
            "type": "barpolar"
           }
          ],
          "carpet": [
           {
            "aaxis": {
             "endlinecolor": "#2a3f5f",
             "gridcolor": "white",
             "linecolor": "white",
             "minorgridcolor": "white",
             "startlinecolor": "#2a3f5f"
            },
            "baxis": {
             "endlinecolor": "#2a3f5f",
             "gridcolor": "white",
             "linecolor": "white",
             "minorgridcolor": "white",
             "startlinecolor": "#2a3f5f"
            },
            "type": "carpet"
           }
          ],
          "choropleth": [
           {
            "colorbar": {
             "outlinewidth": 0,
             "ticks": ""
            },
            "type": "choropleth"
           }
          ],
          "contour": [
           {
            "colorbar": {
             "outlinewidth": 0,
             "ticks": ""
            },
            "colorscale": [
             [
              0,
              "#0d0887"
             ],
             [
              0.1111111111111111,
              "#46039f"
             ],
             [
              0.2222222222222222,
              "#7201a8"
             ],
             [
              0.3333333333333333,
              "#9c179e"
             ],
             [
              0.4444444444444444,
              "#bd3786"
             ],
             [
              0.5555555555555556,
              "#d8576b"
             ],
             [
              0.6666666666666666,
              "#ed7953"
             ],
             [
              0.7777777777777778,
              "#fb9f3a"
             ],
             [
              0.8888888888888888,
              "#fdca26"
             ],
             [
              1,
              "#f0f921"
             ]
            ],
            "type": "contour"
           }
          ],
          "contourcarpet": [
           {
            "colorbar": {
             "outlinewidth": 0,
             "ticks": ""
            },
            "type": "contourcarpet"
           }
          ],
          "heatmap": [
           {
            "colorbar": {
             "outlinewidth": 0,
             "ticks": ""
            },
            "colorscale": [
             [
              0,
              "#0d0887"
             ],
             [
              0.1111111111111111,
              "#46039f"
             ],
             [
              0.2222222222222222,
              "#7201a8"
             ],
             [
              0.3333333333333333,
              "#9c179e"
             ],
             [
              0.4444444444444444,
              "#bd3786"
             ],
             [
              0.5555555555555556,
              "#d8576b"
             ],
             [
              0.6666666666666666,
              "#ed7953"
             ],
             [
              0.7777777777777778,
              "#fb9f3a"
             ],
             [
              0.8888888888888888,
              "#fdca26"
             ],
             [
              1,
              "#f0f921"
             ]
            ],
            "type": "heatmap"
           }
          ],
          "heatmapgl": [
           {
            "colorbar": {
             "outlinewidth": 0,
             "ticks": ""
            },
            "colorscale": [
             [
              0,
              "#0d0887"
             ],
             [
              0.1111111111111111,
              "#46039f"
             ],
             [
              0.2222222222222222,
              "#7201a8"
             ],
             [
              0.3333333333333333,
              "#9c179e"
             ],
             [
              0.4444444444444444,
              "#bd3786"
             ],
             [
              0.5555555555555556,
              "#d8576b"
             ],
             [
              0.6666666666666666,
              "#ed7953"
             ],
             [
              0.7777777777777778,
              "#fb9f3a"
             ],
             [
              0.8888888888888888,
              "#fdca26"
             ],
             [
              1,
              "#f0f921"
             ]
            ],
            "type": "heatmapgl"
           }
          ],
          "histogram": [
           {
            "marker": {
             "pattern": {
              "fillmode": "overlay",
              "size": 10,
              "solidity": 0.2
             }
            },
            "type": "histogram"
           }
          ],
          "histogram2d": [
           {
            "colorbar": {
             "outlinewidth": 0,
             "ticks": ""
            },
            "colorscale": [
             [
              0,
              "#0d0887"
             ],
             [
              0.1111111111111111,
              "#46039f"
             ],
             [
              0.2222222222222222,
              "#7201a8"
             ],
             [
              0.3333333333333333,
              "#9c179e"
             ],
             [
              0.4444444444444444,
              "#bd3786"
             ],
             [
              0.5555555555555556,
              "#d8576b"
             ],
             [
              0.6666666666666666,
              "#ed7953"
             ],
             [
              0.7777777777777778,
              "#fb9f3a"
             ],
             [
              0.8888888888888888,
              "#fdca26"
             ],
             [
              1,
              "#f0f921"
             ]
            ],
            "type": "histogram2d"
           }
          ],
          "histogram2dcontour": [
           {
            "colorbar": {
             "outlinewidth": 0,
             "ticks": ""
            },
            "colorscale": [
             [
              0,
              "#0d0887"
             ],
             [
              0.1111111111111111,
              "#46039f"
             ],
             [
              0.2222222222222222,
              "#7201a8"
             ],
             [
              0.3333333333333333,
              "#9c179e"
             ],
             [
              0.4444444444444444,
              "#bd3786"
             ],
             [
              0.5555555555555556,
              "#d8576b"
             ],
             [
              0.6666666666666666,
              "#ed7953"
             ],
             [
              0.7777777777777778,
              "#fb9f3a"
             ],
             [
              0.8888888888888888,
              "#fdca26"
             ],
             [
              1,
              "#f0f921"
             ]
            ],
            "type": "histogram2dcontour"
           }
          ],
          "mesh3d": [
           {
            "colorbar": {
             "outlinewidth": 0,
             "ticks": ""
            },
            "type": "mesh3d"
           }
          ],
          "parcoords": [
           {
            "line": {
             "colorbar": {
              "outlinewidth": 0,
              "ticks": ""
             }
            },
            "type": "parcoords"
           }
          ],
          "pie": [
           {
            "automargin": true,
            "type": "pie"
           }
          ],
          "scatter": [
           {
            "fillpattern": {
             "fillmode": "overlay",
             "size": 10,
             "solidity": 0.2
            },
            "type": "scatter"
           }
          ],
          "scatter3d": [
           {
            "line": {
             "colorbar": {
              "outlinewidth": 0,
              "ticks": ""
             }
            },
            "marker": {
             "colorbar": {
              "outlinewidth": 0,
              "ticks": ""
             }
            },
            "type": "scatter3d"
           }
          ],
          "scattercarpet": [
           {
            "marker": {
             "colorbar": {
              "outlinewidth": 0,
              "ticks": ""
             }
            },
            "type": "scattercarpet"
           }
          ],
          "scattergeo": [
           {
            "marker": {
             "colorbar": {
              "outlinewidth": 0,
              "ticks": ""
             }
            },
            "type": "scattergeo"
           }
          ],
          "scattergl": [
           {
            "marker": {
             "colorbar": {
              "outlinewidth": 0,
              "ticks": ""
             }
            },
            "type": "scattergl"
           }
          ],
          "scattermapbox": [
           {
            "marker": {
             "colorbar": {
              "outlinewidth": 0,
              "ticks": ""
             }
            },
            "type": "scattermapbox"
           }
          ],
          "scatterpolar": [
           {
            "marker": {
             "colorbar": {
              "outlinewidth": 0,
              "ticks": ""
             }
            },
            "type": "scatterpolar"
           }
          ],
          "scatterpolargl": [
           {
            "marker": {
             "colorbar": {
              "outlinewidth": 0,
              "ticks": ""
             }
            },
            "type": "scatterpolargl"
           }
          ],
          "scatterternary": [
           {
            "marker": {
             "colorbar": {
              "outlinewidth": 0,
              "ticks": ""
             }
            },
            "type": "scatterternary"
           }
          ],
          "surface": [
           {
            "colorbar": {
             "outlinewidth": 0,
             "ticks": ""
            },
            "colorscale": [
             [
              0,
              "#0d0887"
             ],
             [
              0.1111111111111111,
              "#46039f"
             ],
             [
              0.2222222222222222,
              "#7201a8"
             ],
             [
              0.3333333333333333,
              "#9c179e"
             ],
             [
              0.4444444444444444,
              "#bd3786"
             ],
             [
              0.5555555555555556,
              "#d8576b"
             ],
             [
              0.6666666666666666,
              "#ed7953"
             ],
             [
              0.7777777777777778,
              "#fb9f3a"
             ],
             [
              0.8888888888888888,
              "#fdca26"
             ],
             [
              1,
              "#f0f921"
             ]
            ],
            "type": "surface"
           }
          ],
          "table": [
           {
            "cells": {
             "fill": {
              "color": "#EBF0F8"
             },
             "line": {
              "color": "white"
             }
            },
            "header": {
             "fill": {
              "color": "#C8D4E3"
             },
             "line": {
              "color": "white"
             }
            },
            "type": "table"
           }
          ]
         },
         "layout": {
          "annotationdefaults": {
           "arrowcolor": "#2a3f5f",
           "arrowhead": 0,
           "arrowwidth": 1
          },
          "autotypenumbers": "strict",
          "coloraxis": {
           "colorbar": {
            "outlinewidth": 0,
            "ticks": ""
           }
          },
          "colorscale": {
           "diverging": [
            [
             0,
             "#8e0152"
            ],
            [
             0.1,
             "#c51b7d"
            ],
            [
             0.2,
             "#de77ae"
            ],
            [
             0.3,
             "#f1b6da"
            ],
            [
             0.4,
             "#fde0ef"
            ],
            [
             0.5,
             "#f7f7f7"
            ],
            [
             0.6,
             "#e6f5d0"
            ],
            [
             0.7,
             "#b8e186"
            ],
            [
             0.8,
             "#7fbc41"
            ],
            [
             0.9,
             "#4d9221"
            ],
            [
             1,
             "#276419"
            ]
           ],
           "sequential": [
            [
             0,
             "#0d0887"
            ],
            [
             0.1111111111111111,
             "#46039f"
            ],
            [
             0.2222222222222222,
             "#7201a8"
            ],
            [
             0.3333333333333333,
             "#9c179e"
            ],
            [
             0.4444444444444444,
             "#bd3786"
            ],
            [
             0.5555555555555556,
             "#d8576b"
            ],
            [
             0.6666666666666666,
             "#ed7953"
            ],
            [
             0.7777777777777778,
             "#fb9f3a"
            ],
            [
             0.8888888888888888,
             "#fdca26"
            ],
            [
             1,
             "#f0f921"
            ]
           ],
           "sequentialminus": [
            [
             0,
             "#0d0887"
            ],
            [
             0.1111111111111111,
             "#46039f"
            ],
            [
             0.2222222222222222,
             "#7201a8"
            ],
            [
             0.3333333333333333,
             "#9c179e"
            ],
            [
             0.4444444444444444,
             "#bd3786"
            ],
            [
             0.5555555555555556,
             "#d8576b"
            ],
            [
             0.6666666666666666,
             "#ed7953"
            ],
            [
             0.7777777777777778,
             "#fb9f3a"
            ],
            [
             0.8888888888888888,
             "#fdca26"
            ],
            [
             1,
             "#f0f921"
            ]
           ]
          },
          "colorway": [
           "#636efa",
           "#EF553B",
           "#00cc96",
           "#ab63fa",
           "#FFA15A",
           "#19d3f3",
           "#FF6692",
           "#B6E880",
           "#FF97FF",
           "#FECB52"
          ],
          "font": {
           "color": "#2a3f5f"
          },
          "geo": {
           "bgcolor": "white",
           "lakecolor": "white",
           "landcolor": "#E5ECF6",
           "showlakes": true,
           "showland": true,
           "subunitcolor": "white"
          },
          "hoverlabel": {
           "align": "left"
          },
          "hovermode": "closest",
          "mapbox": {
           "style": "light"
          },
          "paper_bgcolor": "white",
          "plot_bgcolor": "#E5ECF6",
          "polar": {
           "angularaxis": {
            "gridcolor": "white",
            "linecolor": "white",
            "ticks": ""
           },
           "bgcolor": "#E5ECF6",
           "radialaxis": {
            "gridcolor": "white",
            "linecolor": "white",
            "ticks": ""
           }
          },
          "scene": {
           "xaxis": {
            "backgroundcolor": "#E5ECF6",
            "gridcolor": "white",
            "gridwidth": 2,
            "linecolor": "white",
            "showbackground": true,
            "ticks": "",
            "zerolinecolor": "white"
           },
           "yaxis": {
            "backgroundcolor": "#E5ECF6",
            "gridcolor": "white",
            "gridwidth": 2,
            "linecolor": "white",
            "showbackground": true,
            "ticks": "",
            "zerolinecolor": "white"
           },
           "zaxis": {
            "backgroundcolor": "#E5ECF6",
            "gridcolor": "white",
            "gridwidth": 2,
            "linecolor": "white",
            "showbackground": true,
            "ticks": "",
            "zerolinecolor": "white"
           }
          },
          "shapedefaults": {
           "line": {
            "color": "#2a3f5f"
           }
          },
          "ternary": {
           "aaxis": {
            "gridcolor": "white",
            "linecolor": "white",
            "ticks": ""
           },
           "baxis": {
            "gridcolor": "white",
            "linecolor": "white",
            "ticks": ""
           },
           "bgcolor": "#E5ECF6",
           "caxis": {
            "gridcolor": "white",
            "linecolor": "white",
            "ticks": ""
           }
          },
          "title": {
           "x": 0.05
          },
          "xaxis": {
           "automargin": true,
           "gridcolor": "white",
           "linecolor": "white",
           "ticks": "",
           "title": {
            "standoff": 15
           },
           "zerolinecolor": "white",
           "zerolinewidth": 2
          },
          "yaxis": {
           "automargin": true,
           "gridcolor": "white",
           "linecolor": "white",
           "ticks": "",
           "title": {
            "standoff": 15
           },
           "zerolinecolor": "white",
           "zerolinewidth": 2
          }
         }
        },
        "title": {
         "text": "Profit per Bet by Votes Threshold and Discrepancy"
        },
        "width": 900
       }
      }
     },
     "metadata": {},
     "output_type": "display_data"
    }
   ],
   "source": [
    "profit_per_bet = bets.groupby(['votes threshold', 'discrepancy']).apply(lambda x: x['Profit'].sum() / len(x)).reset_index(name='profit_per_bet')\n",
    "\n",
    "# Pivot table to get grid\n",
    "pivot = profit_per_bet.pivot(index='discrepancy', columns='votes threshold', values='profit_per_bet')\n",
    "\n",
    "X = pivot.columns.values\n",
    "Y = pivot.index.values\n",
    "X, Y = np.meshgrid(X, Y)\n",
    "Z = pivot.values\n",
    "\n",
    "import plotly.graph_objects as go\n",
    "\n",
    "fig = go.Figure(data=[go.Surface(\n",
    "    z=Z, x=X, y=Y, colorscale='Viridis', \n",
    "    contours={\"z\": {\"show\": True, \"usecolormap\": True, \"highlightcolor\": \"limegreen\", \"project_z\": True}}\n",
    ")])\n",
    "\n",
    "fig.update_layout(\n",
    "    title='Profit per Bet by Votes Threshold and Discrepancy',\n",
    "    scene=dict(\n",
    "        xaxis_title='Votes Threshold',\n",
    "        yaxis_title='Discrepancy',\n",
    "        zaxis_title='Profit per Bet'\n",
    "    ),\n",
    "    autosize=True,\n",
    "    width=900,\n",
    "    height=700,\n",
    "    margin=dict(l=50, r=50, b=50, t=50)\n",
    ")\n",
    "\n",
    "fig.show()\n"
   ]
  },
  {
   "cell_type": "markdown",
   "id": "db4ccc9c",
   "metadata": {},
   "source": [
    "### Print summary of results"
   ]
  },
  {
   "cell_type": "code",
   "execution_count": 192,
   "id": "b851702f",
   "metadata": {},
   "outputs": [
    {
     "name": "stdout",
     "output_type": "stream",
     "text": [
      "2.137676575266029\n",
      "141\n",
      "321\n",
      "0.006659428583383268\n"
     ]
    }
   ],
   "source": [
    "bets1 = bets[(bets['votes threshold'] == 5000) & (bets['discrepancy'] == 0.4)]\n",
    "\n",
    "print(bets1['Profit'].sum())\n",
    "# print(balance)\n",
    "print((bets1['Profit']>0).sum())\n",
    "print(len(bets1))\n",
    "print(bets1['Profit'].sum() / len(bets1))"
   ]
  },
  {
   "cell_type": "code",
   "execution_count": 8,
   "id": "8a0a3e38",
   "metadata": {},
   "outputs": [
    {
     "name": "stdout",
     "output_type": "stream",
     "text": [
      "{'error': {'code': 403, 'reason': 'challenge'}}\n"
     ]
    }
   ],
   "source": [
    "from selenium import webdriver\n",
    "from selenium.webdriver.chrome.options import Options\n",
    "import time\n",
    "import json\n",
    "\n",
    "options = Options()\n",
    "options.add_argument('--headless')\n",
    "options.add_argument('--disable-blink-features=AutomationControlled')\n",
    "\n",
    "driver = webdriver.Chrome(options=options)\n",
    "\n",
    "# Navigate directly to the API endpoint\n",
    "driver.get('https://www.sofascore.com/api/v1/sport/football/scheduled-events/2025-10-20')\n",
    "time.sleep(2)\n",
    "\n",
    "# The API returns JSON that gets displayed as text\n",
    "page_source = driver.page_source\n",
    "driver.quit()\n",
    "\n",
    "# Extract JSON from the page\n",
    "# It's usually wrapped in <pre> tags\n",
    "start = page_source.find('{')\n",
    "end = page_source.rfind('}') + 1\n",
    "json_data = json.loads(page_source[start:end])\n",
    "\n",
    "print(json_data)"
   ]
  },
  {
   "cell_type": "markdown",
   "id": "a96b7b12",
   "metadata": {},
   "source": [
    "## Scrape all football matches in 2025"
   ]
  },
  {
   "cell_type": "code",
   "execution_count": 4,
   "id": "98e8df7e",
   "metadata": {},
   "outputs": [],
   "source": [
    "from selenium import webdriver\n",
    "from selenium.webdriver.chrome.options import Options\n",
    "import time\n",
    "import json\n",
    "\n",
    "dfs = []\n",
    "\n",
    "dates = pd.date_range('2025-01-01','2025-10-20').date\n",
    "\n",
    "options = Options()\n",
    "options.add_argument('--headless')\n",
    "options.add_argument('--disable-blink-features=AutomationControlled')\n",
    "\n",
    "driver = webdriver.Chrome(options=options)\n",
    "\n",
    "for date in dates:\n",
    "    \n",
    "    # Make the request\n",
    "    # Navigate directly to the API endpoint\n",
    "    driver.get(f'https://www.sofascore.com/api/v1/sport/football/scheduled-events/{date}')\n",
    "    time.sleep(2)\n",
    "\n",
    "    # The API returns JSON that gets displayed as text\n",
    "    page_source = driver.page_source\n",
    "\n",
    "    # Extract JSON from the page\n",
    "    # It's usually wrapped in <pre> tags\n",
    "    start = page_source.find('{')\n",
    "    end = page_source.rfind('}') + 1\n",
    "    json_data = json.loads(page_source[start:end])\n",
    "\n",
    "    for event in json_data['events']:\n",
    "        if 'winnerCode' in event.keys():\n",
    "            dfs.append({\n",
    "                'winner':event['winnerCode'],\n",
    "                'match_id':event['id'],\n",
    "                'players':event['slug'],\n",
    "                'start timestamp':event['startTimestamp']\n",
    "                })\n",
    "            \n",
    "driver.quit()\n",
    "        \n",
    "df = pd.DataFrame(dfs)        \n",
    "df = df.set_index('match_id')\n",
    "df = df.drop_duplicates()"
   ]
  },
  {
   "cell_type": "code",
   "execution_count": 5,
   "id": "a8dfb04c",
   "metadata": {},
   "outputs": [],
   "source": [
    "df.to_excel('football_matches.xlsx')"
   ]
  },
  {
   "cell_type": "code",
   "execution_count": null,
   "id": "698067a3",
   "metadata": {},
   "outputs": [
    {
     "ename": "ValueError",
     "evalue": "Length of values (0) does not match length of index (41143)",
     "output_type": "error",
     "traceback": [
      "\u001b[1;31m---------------------------------------------------------------------------\u001b[0m",
      "\u001b[1;31mValueError\u001b[0m                                Traceback (most recent call last)",
      "Cell \u001b[1;32mIn[2], line 82\u001b[0m\n\u001b[0;32m     80\u001b[0m df[\u001b[38;5;124m'\u001b[39m\u001b[38;5;124modd home\u001b[39m\u001b[38;5;124m'\u001b[39m] \u001b[38;5;241m=\u001b[39m odd_home\n\u001b[0;32m     81\u001b[0m df[\u001b[38;5;124m'\u001b[39m\u001b[38;5;124modd away\u001b[39m\u001b[38;5;124m'\u001b[39m] \u001b[38;5;241m=\u001b[39m odd_away\n\u001b[1;32m---> 82\u001b[0m df[\u001b[38;5;124m'\u001b[39m\u001b[38;5;124mvotes home\u001b[39m\u001b[38;5;124m'\u001b[39m] \u001b[38;5;241m=\u001b[39m votes1\n\u001b[0;32m     83\u001b[0m df[\u001b[38;5;124m'\u001b[39m\u001b[38;5;124mvotes away\u001b[39m\u001b[38;5;124m'\u001b[39m] \u001b[38;5;241m=\u001b[39m votes2\n",
      "File \u001b[1;32mc:\\Users\\SamCoenenSYMSON\\anaconda3\\Lib\\site-packages\\pandas\\core\\frame.py:4311\u001b[0m, in \u001b[0;36mDataFrame.__setitem__\u001b[1;34m(self, key, value)\u001b[0m\n\u001b[0;32m   4308\u001b[0m     \u001b[38;5;28mself\u001b[39m\u001b[38;5;241m.\u001b[39m_setitem_array([key], value)\n\u001b[0;32m   4309\u001b[0m \u001b[38;5;28;01melse\u001b[39;00m:\n\u001b[0;32m   4310\u001b[0m     \u001b[38;5;66;03m# set column\u001b[39;00m\n\u001b[1;32m-> 4311\u001b[0m     \u001b[38;5;28mself\u001b[39m\u001b[38;5;241m.\u001b[39m_set_item(key, value)\n",
      "File \u001b[1;32mc:\\Users\\SamCoenenSYMSON\\anaconda3\\Lib\\site-packages\\pandas\\core\\frame.py:4524\u001b[0m, in \u001b[0;36mDataFrame._set_item\u001b[1;34m(self, key, value)\u001b[0m\n\u001b[0;32m   4514\u001b[0m \u001b[38;5;28;01mdef\u001b[39;00m \u001b[38;5;21m_set_item\u001b[39m(\u001b[38;5;28mself\u001b[39m, key, value) \u001b[38;5;241m-\u001b[39m\u001b[38;5;241m>\u001b[39m \u001b[38;5;28;01mNone\u001b[39;00m:\n\u001b[0;32m   4515\u001b[0m \u001b[38;5;250m    \u001b[39m\u001b[38;5;124;03m\"\"\"\u001b[39;00m\n\u001b[0;32m   4516\u001b[0m \u001b[38;5;124;03m    Add series to DataFrame in specified column.\u001b[39;00m\n\u001b[0;32m   4517\u001b[0m \n\u001b[1;32m   (...)\u001b[0m\n\u001b[0;32m   4522\u001b[0m \u001b[38;5;124;03m    ensure homogeneity.\u001b[39;00m\n\u001b[0;32m   4523\u001b[0m \u001b[38;5;124;03m    \"\"\"\u001b[39;00m\n\u001b[1;32m-> 4524\u001b[0m     value, refs \u001b[38;5;241m=\u001b[39m \u001b[38;5;28mself\u001b[39m\u001b[38;5;241m.\u001b[39m_sanitize_column(value)\n\u001b[0;32m   4526\u001b[0m     \u001b[38;5;28;01mif\u001b[39;00m (\n\u001b[0;32m   4527\u001b[0m         key \u001b[38;5;129;01min\u001b[39;00m \u001b[38;5;28mself\u001b[39m\u001b[38;5;241m.\u001b[39mcolumns\n\u001b[0;32m   4528\u001b[0m         \u001b[38;5;129;01mand\u001b[39;00m value\u001b[38;5;241m.\u001b[39mndim \u001b[38;5;241m==\u001b[39m \u001b[38;5;241m1\u001b[39m\n\u001b[0;32m   4529\u001b[0m         \u001b[38;5;129;01mand\u001b[39;00m \u001b[38;5;129;01mnot\u001b[39;00m \u001b[38;5;28misinstance\u001b[39m(value\u001b[38;5;241m.\u001b[39mdtype, ExtensionDtype)\n\u001b[0;32m   4530\u001b[0m     ):\n\u001b[0;32m   4531\u001b[0m         \u001b[38;5;66;03m# broadcast across multiple columns if necessary\u001b[39;00m\n\u001b[0;32m   4532\u001b[0m         \u001b[38;5;28;01mif\u001b[39;00m \u001b[38;5;129;01mnot\u001b[39;00m \u001b[38;5;28mself\u001b[39m\u001b[38;5;241m.\u001b[39mcolumns\u001b[38;5;241m.\u001b[39mis_unique \u001b[38;5;129;01mor\u001b[39;00m \u001b[38;5;28misinstance\u001b[39m(\u001b[38;5;28mself\u001b[39m\u001b[38;5;241m.\u001b[39mcolumns, MultiIndex):\n",
      "File \u001b[1;32mc:\\Users\\SamCoenenSYMSON\\anaconda3\\Lib\\site-packages\\pandas\\core\\frame.py:5266\u001b[0m, in \u001b[0;36mDataFrame._sanitize_column\u001b[1;34m(self, value)\u001b[0m\n\u001b[0;32m   5263\u001b[0m     \u001b[38;5;28;01mreturn\u001b[39;00m _reindex_for_setitem(value, \u001b[38;5;28mself\u001b[39m\u001b[38;5;241m.\u001b[39mindex)\n\u001b[0;32m   5265\u001b[0m \u001b[38;5;28;01mif\u001b[39;00m is_list_like(value):\n\u001b[1;32m-> 5266\u001b[0m     com\u001b[38;5;241m.\u001b[39mrequire_length_match(value, \u001b[38;5;28mself\u001b[39m\u001b[38;5;241m.\u001b[39mindex)\n\u001b[0;32m   5267\u001b[0m arr \u001b[38;5;241m=\u001b[39m sanitize_array(value, \u001b[38;5;28mself\u001b[39m\u001b[38;5;241m.\u001b[39mindex, copy\u001b[38;5;241m=\u001b[39m\u001b[38;5;28;01mTrue\u001b[39;00m, allow_2d\u001b[38;5;241m=\u001b[39m\u001b[38;5;28;01mTrue\u001b[39;00m)\n\u001b[0;32m   5268\u001b[0m \u001b[38;5;28;01mif\u001b[39;00m (\n\u001b[0;32m   5269\u001b[0m     \u001b[38;5;28misinstance\u001b[39m(value, Index)\n\u001b[0;32m   5270\u001b[0m     \u001b[38;5;129;01mand\u001b[39;00m value\u001b[38;5;241m.\u001b[39mdtype \u001b[38;5;241m==\u001b[39m \u001b[38;5;124m\"\u001b[39m\u001b[38;5;124mobject\u001b[39m\u001b[38;5;124m\"\u001b[39m\n\u001b[1;32m   (...)\u001b[0m\n\u001b[0;32m   5273\u001b[0m     \u001b[38;5;66;03m# TODO: Remove kludge in sanitize_array for string mode when enforcing\u001b[39;00m\n\u001b[0;32m   5274\u001b[0m     \u001b[38;5;66;03m# this deprecation\u001b[39;00m\n",
      "File \u001b[1;32mc:\\Users\\SamCoenenSYMSON\\anaconda3\\Lib\\site-packages\\pandas\\core\\common.py:573\u001b[0m, in \u001b[0;36mrequire_length_match\u001b[1;34m(data, index)\u001b[0m\n\u001b[0;32m    569\u001b[0m \u001b[38;5;250m\u001b[39m\u001b[38;5;124;03m\"\"\"\u001b[39;00m\n\u001b[0;32m    570\u001b[0m \u001b[38;5;124;03mCheck the length of data matches the length of the index.\u001b[39;00m\n\u001b[0;32m    571\u001b[0m \u001b[38;5;124;03m\"\"\"\u001b[39;00m\n\u001b[0;32m    572\u001b[0m \u001b[38;5;28;01mif\u001b[39;00m \u001b[38;5;28mlen\u001b[39m(data) \u001b[38;5;241m!=\u001b[39m \u001b[38;5;28mlen\u001b[39m(index):\n\u001b[1;32m--> 573\u001b[0m     \u001b[38;5;28;01mraise\u001b[39;00m \u001b[38;5;167;01mValueError\u001b[39;00m(\n\u001b[0;32m    574\u001b[0m         \u001b[38;5;124m\"\u001b[39m\u001b[38;5;124mLength of values \u001b[39m\u001b[38;5;124m\"\u001b[39m\n\u001b[0;32m    575\u001b[0m         \u001b[38;5;124mf\u001b[39m\u001b[38;5;124m\"\u001b[39m\u001b[38;5;124m(\u001b[39m\u001b[38;5;132;01m{\u001b[39;00m\u001b[38;5;28mlen\u001b[39m(data)\u001b[38;5;132;01m}\u001b[39;00m\u001b[38;5;124m) \u001b[39m\u001b[38;5;124m\"\u001b[39m\n\u001b[0;32m    576\u001b[0m         \u001b[38;5;124m\"\u001b[39m\u001b[38;5;124mdoes not match length of index \u001b[39m\u001b[38;5;124m\"\u001b[39m\n\u001b[0;32m    577\u001b[0m         \u001b[38;5;124mf\u001b[39m\u001b[38;5;124m\"\u001b[39m\u001b[38;5;124m(\u001b[39m\u001b[38;5;132;01m{\u001b[39;00m\u001b[38;5;28mlen\u001b[39m(index)\u001b[38;5;132;01m}\u001b[39;00m\u001b[38;5;124m)\u001b[39m\u001b[38;5;124m\"\u001b[39m\n\u001b[0;32m    578\u001b[0m     )\n",
      "\u001b[1;31mValueError\u001b[0m: Length of values (0) does not match length of index (41143)"
     ]
    }
   ],
   "source": [
    "from selenium import webdriver\n",
    "from selenium.webdriver.chrome.options import Options\n",
    "import time\n",
    "import json\n",
    "import pandas as pd\n",
    "import numpy as np\n",
    "\n",
    "df = pd.read_excel('football_matches.xlsx')\n",
    "\n",
    "# Function that converts fractional odds into decimal odds\n",
    "def odd_converter(odd):\n",
    "    \n",
    "    try:\n",
    "    \n",
    "        split_odd = odd.split('/')\n",
    "        return (int(split_odd[0])+int(split_odd[1]))/int(split_odd[1])\n",
    "    \n",
    "    except:\n",
    "        \n",
    "        return np.nan\n",
    "\n",
    "odd_home = []\n",
    "odd_away = []\n",
    "votes1=[]\n",
    "votes2=[]\n",
    "\n",
    "options = Options()\n",
    "options.add_argument('--headless')\n",
    "options.add_argument('--disable-blink-features=AutomationControlled')\n",
    "\n",
    "driver = webdriver.Chrome(options=options)\n",
    "\n",
    "# For each match in the dataset, store odds for home victory and away victory\n",
    "for matchid in df.index:\n",
    "    \n",
    "    try:\n",
    "        # Make the request\n",
    "        # Navigate directly to the API endpoint\n",
    "        driver.get(f'https://www.sofascore.com/api/v1/event/{matchid}/provider/833/winning-odds')\n",
    "        # time.sleep(2)\n",
    "\n",
    "        # The API returns JSON that gets displayed as text\n",
    "        page_source = driver.page_source\n",
    "\n",
    "        # Extract JSON from the page\n",
    "        # It's usually wrapped in <pre> tags\n",
    "        start = page_source.find('{')\n",
    "        end = page_source.rfind('}') + 1\n",
    "        json_data = json.loads(page_source[start:end])\n",
    "        \n",
    "        odd1 = json_data['featured']['fullTime']['choices'][0]['fractionalValue']\n",
    "        odd2 = json_data['featured']['fullTime']['choices'][1]['fractionalValue']\n",
    "        \n",
    "        odd_home.append(odd_converter(odd1))\n",
    "        odd_away.append(odd_converter(odd2))\n",
    "\n",
    "        # Make the request\n",
    "        # Navigate directly to the API endpoint\n",
    "        driver.get(f'https://www.sofascore.com/api/v1/event/{matchid}/votes')\n",
    "        # time.sleep(2)\n",
    "\n",
    "        # The API returns JSON that gets displayed as text\n",
    "        page_source = driver.page_source\n",
    "\n",
    "        # Extract JSON from the page\n",
    "        # It's usually wrapped in <pre> tags\n",
    "        start = page_source.find('{')\n",
    "        end = page_source.rfind('}') + 1\n",
    "        json_data = json.loads(page_source[start:end])\n",
    "        \n",
    "        votes1.append(json_data['vote']['vote1'])\n",
    "        votes2.append(json_data['vote']['vote2'])\n",
    "    \n",
    "    except:\n",
    "        odd_home.append(np.nan)\n",
    "        odd_away.append(np.nan)\n",
    "    \n",
    "driver.quit()\n",
    "    \n",
    "df['odd home'] = odd_home\n",
    "df['odd away'] = odd_away\n",
    "df['votes home'] = votes1\n",
    "df['votes away'] = votes2"
   ]
  },
  {
   "cell_type": "code",
   "execution_count": 7,
   "id": "3dd2aae1",
   "metadata": {},
   "outputs": [],
   "source": [
    "from selenium import webdriver\n",
    "from selenium.webdriver.chrome.options import Options\n",
    "import time\n",
    "import json\n",
    "import pandas as pd\n",
    "import numpy as np\n",
    "\n",
    "df = pd.read_excel('football_matches.xlsx')\n",
    "\n",
    "# Function that converts fractional odds into decimal odds\n",
    "def odd_converter(odd):\n",
    "    \n",
    "    try:\n",
    "    \n",
    "        split_odd = odd.split('/')\n",
    "        return (int(split_odd[0])+int(split_odd[1]))/int(split_odd[1])\n",
    "    \n",
    "    except:\n",
    "        \n",
    "        return np.nan\n",
    "\n",
    "odd_home = []\n",
    "odd_away = []\n",
    "votes1=[]\n",
    "votes2=[]\n",
    "\n",
    "options = Options()\n",
    "options.add_argument('--headless')\n",
    "options.add_argument('--disable-blink-features=AutomationControlled')\n",
    "\n",
    "driver = webdriver.Chrome(options=options)\n",
    "\n",
    "driver.get(f'https://www.sofascore.com/api/v1/event/14056467/provider/833/winning-odds')\n",
    "time.sleep(2)\n",
    "\n",
    "# The API returns JSON that gets displayed as text\n",
    "page_source = driver.page_source\n",
    "\n",
    "# Extract JSON from the page\n",
    "# It's usually wrapped in <pre> tags\n",
    "start = page_source.find('{')\n",
    "end = page_source.rfind('}') + 1\n",
    "json_data = json.loads(page_source[start:end])\n",
    "\n",
    "driver.quit()"
   ]
  },
  {
   "cell_type": "code",
   "execution_count": null,
   "id": "fadc3f33",
   "metadata": {},
   "outputs": [],
   "source": [
    "# Function that converts fractional odds into decimal odds\n",
    "def odd_converter(odd):\n",
    "    \n",
    "    try:\n",
    "    \n",
    "        split_odd = odd.split('/')\n",
    "        return (int(split_odd[0])+int(split_odd[1]))/int(split_odd[1])\n",
    "    \n",
    "    except:\n",
    "        \n",
    "        return np.nan\n",
    "\n",
    "odd_home = []\n",
    "odd_away = []\n",
    "\n",
    "options = Options()\n",
    "options.add_argument('--headless')\n",
    "options.add_argument('--disable-blink-features=AutomationControlled')\n",
    "\n",
    "driver = webdriver.Chrome(options=options)\n",
    "\n",
    "# For each match in the dataset, store odds for home victory and away victory\n",
    "for matchid in df.index:\n",
    "    \n",
    "    try:\n",
    "        # Make the request\n",
    "        # Navigate directly to the API endpoint\n",
    "        driver.get(f'https://www.sofascore.com/api/v1/event/{matchid}/provider/833/winning-odds')\n",
    "        time.sleep(2)\n",
    "\n",
    "        # The API returns JSON that gets displayed as text\n",
    "        page_source = driver.page_source\n",
    "\n",
    "        # Extract JSON from the page\n",
    "        # It's usually wrapped in <pre> tags\n",
    "        start = page_source.find('{')\n",
    "        end = page_source.rfind('}') + 1\n",
    "        json_data = json.loads(page_source[start:end])\n",
    "        \n",
    "        odd1 = json_data['featured']['fullTime']['choices'][0]['fractionalValue']\n",
    "        odd2 = json_data['featured']['fullTime']['choices'][1]['fractionalValue']\n",
    "        \n",
    "        odd_home.append(odd_converter(odd1))\n",
    "        odd_away.append(odd_converter(odd2))\n",
    "    \n",
    "    except:\n",
    "        odd_home.append(np.nan)\n",
    "        odd_away.append(np.nan)\n",
    "    \n",
    "driver.quit()\n",
    "    \n",
    "df['odd home'] = odd_home\n",
    "df['odd away'] = odd_away\n",
    "\n",
    "########################################\n",
    "\n",
    "\"\"\"Get votes for all matches in df\"\"\"\n",
    "\n",
    "votes1=[]\n",
    "votes2=[]\n",
    "\n",
    "options = Options()\n",
    "options.add_argument('--headless')\n",
    "options.add_argument('--disable-blink-features=AutomationControlled')\n",
    "\n",
    "driver = webdriver.Chrome(options=options)\n",
    "\n",
    "# For all matches in the dataset, store the user votes for home victory and away victory\n",
    "for matchid in df.index:\n",
    "\n",
    "    # Make the request\n",
    "    # Navigate directly to the API endpoint\n",
    "    driver.get(f'https://www.sofascore.com/api/v1/event/{matchid}/votes')\n",
    "    time.sleep(2)\n",
    "\n",
    "    # The API returns JSON that gets displayed as text\n",
    "    page_source = driver.page_source\n",
    "\n",
    "    # Extract JSON from the page\n",
    "    # It's usually wrapped in <pre> tags\n",
    "    start = page_source.find('{')\n",
    "    end = page_source.rfind('}') + 1\n",
    "    json_data = json.loads(page_source[start:end])\n",
    "    \n",
    "    votes1.append(json_data['vote']['vote1'])\n",
    "    votes2.append(json_data['vote']['vote2'])\n",
    "    \n",
    "driver.quit()\n",
    "\n",
    "df['votes home'] = votes1\n",
    "df['votes away'] = votes2"
   ]
  }
 ],
 "metadata": {
  "kernelspec": {
   "display_name": "base",
   "language": "python",
   "name": "python3"
  },
  "language_info": {
   "codemirror_mode": {
    "name": "ipython",
    "version": 3
   },
   "file_extension": ".py",
   "mimetype": "text/x-python",
   "name": "python",
   "nbconvert_exporter": "python",
   "pygments_lexer": "ipython3",
   "version": "3.12.4"
  }
 },
 "nbformat": 4,
 "nbformat_minor": 5
}
