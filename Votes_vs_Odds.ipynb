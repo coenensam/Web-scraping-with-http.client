{
 "cells": [
  {
   "cell_type": "markdown",
   "id": "21b4310d",
   "metadata": {},
   "source": [
    "# Votes Vs Odds"
   ]
  },
  {
   "cell_type": "code",
   "execution_count": null,
   "id": "e7ab9e8b",
   "metadata": {},
   "outputs": [],
   "source": [
    "import pandas as pd\n",
    "import numpy as np\n",
    "\n",
    "df = pd.read_excel('sofascore_data.xlsx')"
   ]
  },
  {
   "cell_type": "markdown",
   "id": "1cd62e85",
   "metadata": {},
   "source": [
    "### Run betting simulation where we bet against voters when discrepancy between votes and odds is large. Calculate profit per bet."
   ]
  },
  {
   "cell_type": "code",
   "execution_count": null,
   "id": "7dba82bd",
   "metadata": {},
   "outputs": [],
   "source": [
    "discrepancies = np.arange(0, 1, 0.1) # Discrepancy levels between probability implied by odds and probability implied by votes\n",
    "votes_ = np.arange(1000, 10000, 1000) # Options for total number of votes\n",
    "\n",
    "bets = []\n",
    "\n",
    "# Loop over all discrepancy levels and number of votes\n",
    "for discrepancy in discrepancies:\n",
    "    for votes in votes_:\n",
    "\n",
    "        # Events that meet the conditions\n",
    "        high_votes = df[df['total votes'] > votes]\n",
    "        high_votes = high_votes[(abs(high_votes['votes prob away'] - high_votes['impl prob away'])/high_votes['votes prob away'] > discrepancy) |\n",
    "                                (abs(high_votes['votes prob home'] - high_votes['impl prob home'])/high_votes['votes prob home'] > discrepancy)]\n",
    "\n",
    "        # Skip iteration if there are less than 100 events meeting the conditions\n",
    "        if len(high_votes) < 100:\n",
    "            continue\n",
    "        \n",
    "        balance = 1000\n",
    "\n",
    "        for id, event in high_votes.iterrows():\n",
    "\n",
    "            # Bet on home player if votes overestimate chances of away player winning\n",
    "            if event['votes prob away'] > event['impl prob away']:\n",
    "                \n",
    "                bet = {'Event': event['players'],\n",
    "                      'Sign': 1,\n",
    "                      'Outcome': event['winner'],\n",
    "                      'Profit': 1-1 / event['odd home'] if event['winner'] == 1 else -1 / event['odd home'],\n",
    "                      'Odds': event['odd home'],\n",
    "                      'votes threshold': votes,\n",
    "                      'discrepancy': discrepancy\n",
    "                      }\n",
    "                bets.append(bet)\n",
    "                balance += bet['Profit']\n",
    "                \n",
    "            # Bet on away player if votes overestimate chances of home player winning\n",
    "            if event['votes prob away'] < event['impl prob away']:\n",
    "                \n",
    "                bet = {'Event': event['players'],\n",
    "                      'Sign': 2,\n",
    "                      'Outcome': event['winner'],\n",
    "                      'Profit': 1-1 / event['odd away'] if event['winner'] == 2 else -1 / event['odd away'],\n",
    "                      'Odds': event['odd away'],\n",
    "                      'votes threshold': votes,\n",
    "                      'discrepancy': discrepancy\n",
    "                      }\n",
    "                bets.append(bet)\n",
    "                balance += bet['Profit']\n",
    "\n",
    "bets = pd.DataFrame(bets)"
   ]
  },
  {
   "cell_type": "markdown",
   "id": "74cbd0b9",
   "metadata": {},
   "source": [
    "### Create graph for profit per bet vs 'votes threshold' and 'discrepancy'"
   ]
  },
  {
   "cell_type": "code",
   "execution_count": null,
   "id": "e904498d",
   "metadata": {},
   "outputs": [
    {
     "name": "stderr",
     "output_type": "stream",
     "text": [
      "C:\\Users\\SamCoenenSYMSON\\AppData\\Local\\Temp\\ipykernel_17592\\2757529495.py:1: DeprecationWarning:\n",
      "\n",
      "DataFrameGroupBy.apply operated on the grouping columns. This behavior is deprecated, and in a future version of pandas the grouping columns will be excluded from the operation. Either pass `include_groups=False` to exclude the groupings or explicitly select the grouping columns after groupby to silence this warning.\n",
      "\n"
     ]
    },
    {
     "data": {
      "application/vnd.plotly.v1+json": {
       "config": {
        "plotlyServerURL": "https://plot.ly"
       },
       "data": [
        {
         "colorscale": [
          [
           0,
           "#440154"
          ],
          [
           0.1111111111111111,
           "#482878"
          ],
          [
           0.2222222222222222,
           "#3e4989"
          ],
          [
           0.3333333333333333,
           "#31688e"
          ],
          [
           0.4444444444444444,
           "#26828e"
          ],
          [
           0.5555555555555556,
           "#1f9e89"
          ],
          [
           0.6666666666666666,
           "#35b779"
          ],
          [
           0.7777777777777778,
           "#6ece58"
          ],
          [
           0.8888888888888888,
           "#b5de2b"
          ],
          [
           1,
           "#fde725"
          ]
         ],
         "contours": {
          "z": {
           "highlightcolor": "limegreen",
           "project": {
            "z": true
           },
           "show": true,
           "usecolormap": true
          }
         },
         "type": "surface",
         "x": [
          [
           1000,
           2000,
           3000,
           4000,
           5000,
           6000,
           7000,
           8000,
           9000
          ],
          [
           1000,
           2000,
           3000,
           4000,
           5000,
           6000,
           7000,
           8000,
           9000
          ],
          [
           1000,
           2000,
           3000,
           4000,
           5000,
           6000,
           7000,
           8000,
           9000
          ],
          [
           1000,
           2000,
           3000,
           4000,
           5000,
           6000,
           7000,
           8000,
           9000
          ],
          [
           1000,
           2000,
           3000,
           4000,
           5000,
           6000,
           7000,
           8000,
           9000
          ],
          [
           1000,
           2000,
           3000,
           4000,
           5000,
           6000,
           7000,
           8000,
           9000
          ],
          [
           1000,
           2000,
           3000,
           4000,
           5000,
           6000,
           7000,
           8000,
           9000
          ],
          [
           1000,
           2000,
           3000,
           4000,
           5000,
           6000,
           7000,
           8000,
           9000
          ],
          [
           1000,
           2000,
           3000,
           4000,
           5000,
           6000,
           7000,
           8000,
           9000
          ],
          [
           1000,
           2000,
           3000,
           4000,
           5000,
           6000,
           7000,
           8000,
           9000
          ]
         ],
         "y": [
          [
           0,
           0,
           0,
           0,
           0,
           0,
           0,
           0,
           0
          ],
          [
           0.1,
           0.1,
           0.1,
           0.1,
           0.1,
           0.1,
           0.1,
           0.1,
           0.1
          ],
          [
           0.2,
           0.2,
           0.2,
           0.2,
           0.2,
           0.2,
           0.2,
           0.2,
           0.2
          ],
          [
           0.30000000000000004,
           0.30000000000000004,
           0.30000000000000004,
           0.30000000000000004,
           0.30000000000000004,
           0.30000000000000004,
           0.30000000000000004,
           0.30000000000000004,
           0.30000000000000004
          ],
          [
           0.4,
           0.4,
           0.4,
           0.4,
           0.4,
           0.4,
           0.4,
           0.4,
           0.4
          ],
          [
           0.5,
           0.5,
           0.5,
           0.5,
           0.5,
           0.5,
           0.5,
           0.5,
           0.5
          ],
          [
           0.6000000000000001,
           0.6000000000000001,
           0.6000000000000001,
           0.6000000000000001,
           0.6000000000000001,
           0.6000000000000001,
           0.6000000000000001,
           0.6000000000000001,
           0.6000000000000001
          ],
          [
           0.7000000000000001,
           0.7000000000000001,
           0.7000000000000001,
           0.7000000000000001,
           0.7000000000000001,
           0.7000000000000001,
           0.7000000000000001,
           0.7000000000000001,
           0.7000000000000001
          ],
          [
           0.8,
           0.8,
           0.8,
           0.8,
           0.8,
           0.8,
           0.8,
           0.8,
           0.8
          ],
          [
           0.9,
           0.9,
           0.9,
           0.9,
           0.9,
           0.9,
           0.9,
           0.9,
           0.9
          ]
         ],
         "z": [
          [
           -0.026299282497124772,
           -0.015935552082846905,
           -0.0024346467085240918,
           -0.002842687779654593,
           -0.01749058355945144,
           -0.0008537027237965985,
           -0.017922812961047335,
           -0.020403363070376924,
           -0.0261124102627502
          ],
          [
           -0.026860090752857484,
           -0.018982167451696577,
           -0.00022685171618516388,
           0.003330168834626203,
           -0.019404916749307895,
           -0.004588231737947807,
           -0.020241145379807663,
           -0.024564580847150207,
           -0.02340581207444121
          ],
          [
           -0.024530175139789136,
           -0.015686265652340037,
           0.0036881905059313507,
           0.003299337198274078,
           -0.017956061178395308,
           -0.008424110179397615,
           -0.023423131122754865,
           -0.032141839866882564,
           -0.025054612784559747
          ],
          [
           -0.026860052426003964,
           -0.01579925277267343,
           0.004245716110549431,
           0.003205650732347155,
           -0.018111947005500957,
           -0.006101361536489533,
           -0.01139331551704251,
           -0.00954360774924477,
           null
          ],
          [
           -0.024007780415511406,
           -0.008743062942900537,
           0.014590065531689369,
           0.020582802537684058,
           0.006659428583383268,
           0.01818915947738238,
           0.002247680017469723,
           null,
           null
          ],
          [
           -0.029199442157677315,
           -0.016193846991672093,
           0.0067904240856844645,
           0.01185728184088526,
           -0.0008391110289499857,
           0.012462872846385732,
           null,
           null,
           null
          ],
          [
           -0.03155807789862391,
           -0.015247823904572222,
           0.007315388581459405,
           0.016773591395604567,
           0.002073225807723277,
           0.0208941785731648,
           null,
           null,
           null
          ],
          [
           -0.035646809511332346,
           -0.015848139521412907,
           0.011368901002328572,
           0.022696539897518662,
           0.01044289136928106,
           null,
           null,
           null,
           null
          ],
          [
           -0.029972698817004338,
           -0.015047619276114753,
           0.01225098203341308,
           0.014223791113137877,
           0.005488541536528147,
           null,
           null,
           null,
           null
          ],
          [
           -0.034334771318777324,
           -0.016948697367767426,
           0.008019869451970892,
           0.01488905837300338,
           0.006135218210433348,
           null,
           null,
           null,
           null
          ]
         ]
        }
       ],
       "layout": {
        "autosize": true,
        "height": 700,
        "margin": {
         "b": 50,
         "l": 50,
         "r": 50,
         "t": 50
        },
        "scene": {
         "xaxis": {
          "title": {
           "text": "Votes Threshold"
          }
         },
         "yaxis": {
          "title": {
           "text": "Discrepancy"
          }
         },
         "zaxis": {
          "title": {
           "text": "Profit per Bet"
          }
         }
        },
        "template": {
         "data": {
          "bar": [
           {
            "error_x": {
             "color": "#2a3f5f"
            },
            "error_y": {
             "color": "#2a3f5f"
            },
            "marker": {
             "line": {
              "color": "#E5ECF6",
              "width": 0.5
             },
             "pattern": {
              "fillmode": "overlay",
              "size": 10,
              "solidity": 0.2
             }
            },
            "type": "bar"
           }
          ],
          "barpolar": [
           {
            "marker": {
             "line": {
              "color": "#E5ECF6",
              "width": 0.5
             },
             "pattern": {
              "fillmode": "overlay",
              "size": 10,
              "solidity": 0.2
             }
            },
            "type": "barpolar"
           }
          ],
          "carpet": [
           {
            "aaxis": {
             "endlinecolor": "#2a3f5f",
             "gridcolor": "white",
             "linecolor": "white",
             "minorgridcolor": "white",
             "startlinecolor": "#2a3f5f"
            },
            "baxis": {
             "endlinecolor": "#2a3f5f",
             "gridcolor": "white",
             "linecolor": "white",
             "minorgridcolor": "white",
             "startlinecolor": "#2a3f5f"
            },
            "type": "carpet"
           }
          ],
          "choropleth": [
           {
            "colorbar": {
             "outlinewidth": 0,
             "ticks": ""
            },
            "type": "choropleth"
           }
          ],
          "contour": [
           {
            "colorbar": {
             "outlinewidth": 0,
             "ticks": ""
            },
            "colorscale": [
             [
              0,
              "#0d0887"
             ],
             [
              0.1111111111111111,
              "#46039f"
             ],
             [
              0.2222222222222222,
              "#7201a8"
             ],
             [
              0.3333333333333333,
              "#9c179e"
             ],
             [
              0.4444444444444444,
              "#bd3786"
             ],
             [
              0.5555555555555556,
              "#d8576b"
             ],
             [
              0.6666666666666666,
              "#ed7953"
             ],
             [
              0.7777777777777778,
              "#fb9f3a"
             ],
             [
              0.8888888888888888,
              "#fdca26"
             ],
             [
              1,
              "#f0f921"
             ]
            ],
            "type": "contour"
           }
          ],
          "contourcarpet": [
           {
            "colorbar": {
             "outlinewidth": 0,
             "ticks": ""
            },
            "type": "contourcarpet"
           }
          ],
          "heatmap": [
           {
            "colorbar": {
             "outlinewidth": 0,
             "ticks": ""
            },
            "colorscale": [
             [
              0,
              "#0d0887"
             ],
             [
              0.1111111111111111,
              "#46039f"
             ],
             [
              0.2222222222222222,
              "#7201a8"
             ],
             [
              0.3333333333333333,
              "#9c179e"
             ],
             [
              0.4444444444444444,
              "#bd3786"
             ],
             [
              0.5555555555555556,
              "#d8576b"
             ],
             [
              0.6666666666666666,
              "#ed7953"
             ],
             [
              0.7777777777777778,
              "#fb9f3a"
             ],
             [
              0.8888888888888888,
              "#fdca26"
             ],
             [
              1,
              "#f0f921"
             ]
            ],
            "type": "heatmap"
           }
          ],
          "heatmapgl": [
           {
            "colorbar": {
             "outlinewidth": 0,
             "ticks": ""
            },
            "colorscale": [
             [
              0,
              "#0d0887"
             ],
             [
              0.1111111111111111,
              "#46039f"
             ],
             [
              0.2222222222222222,
              "#7201a8"
             ],
             [
              0.3333333333333333,
              "#9c179e"
             ],
             [
              0.4444444444444444,
              "#bd3786"
             ],
             [
              0.5555555555555556,
              "#d8576b"
             ],
             [
              0.6666666666666666,
              "#ed7953"
             ],
             [
              0.7777777777777778,
              "#fb9f3a"
             ],
             [
              0.8888888888888888,
              "#fdca26"
             ],
             [
              1,
              "#f0f921"
             ]
            ],
            "type": "heatmapgl"
           }
          ],
          "histogram": [
           {
            "marker": {
             "pattern": {
              "fillmode": "overlay",
              "size": 10,
              "solidity": 0.2
             }
            },
            "type": "histogram"
           }
          ],
          "histogram2d": [
           {
            "colorbar": {
             "outlinewidth": 0,
             "ticks": ""
            },
            "colorscale": [
             [
              0,
              "#0d0887"
             ],
             [
              0.1111111111111111,
              "#46039f"
             ],
             [
              0.2222222222222222,
              "#7201a8"
             ],
             [
              0.3333333333333333,
              "#9c179e"
             ],
             [
              0.4444444444444444,
              "#bd3786"
             ],
             [
              0.5555555555555556,
              "#d8576b"
             ],
             [
              0.6666666666666666,
              "#ed7953"
             ],
             [
              0.7777777777777778,
              "#fb9f3a"
             ],
             [
              0.8888888888888888,
              "#fdca26"
             ],
             [
              1,
              "#f0f921"
             ]
            ],
            "type": "histogram2d"
           }
          ],
          "histogram2dcontour": [
           {
            "colorbar": {
             "outlinewidth": 0,
             "ticks": ""
            },
            "colorscale": [
             [
              0,
              "#0d0887"
             ],
             [
              0.1111111111111111,
              "#46039f"
             ],
             [
              0.2222222222222222,
              "#7201a8"
             ],
             [
              0.3333333333333333,
              "#9c179e"
             ],
             [
              0.4444444444444444,
              "#bd3786"
             ],
             [
              0.5555555555555556,
              "#d8576b"
             ],
             [
              0.6666666666666666,
              "#ed7953"
             ],
             [
              0.7777777777777778,
              "#fb9f3a"
             ],
             [
              0.8888888888888888,
              "#fdca26"
             ],
             [
              1,
              "#f0f921"
             ]
            ],
            "type": "histogram2dcontour"
           }
          ],
          "mesh3d": [
           {
            "colorbar": {
             "outlinewidth": 0,
             "ticks": ""
            },
            "type": "mesh3d"
           }
          ],
          "parcoords": [
           {
            "line": {
             "colorbar": {
              "outlinewidth": 0,
              "ticks": ""
             }
            },
            "type": "parcoords"
           }
          ],
          "pie": [
           {
            "automargin": true,
            "type": "pie"
           }
          ],
          "scatter": [
           {
            "fillpattern": {
             "fillmode": "overlay",
             "size": 10,
             "solidity": 0.2
            },
            "type": "scatter"
           }
          ],
          "scatter3d": [
           {
            "line": {
             "colorbar": {
              "outlinewidth": 0,
              "ticks": ""
             }
            },
            "marker": {
             "colorbar": {
              "outlinewidth": 0,
              "ticks": ""
             }
            },
            "type": "scatter3d"
           }
          ],
          "scattercarpet": [
           {
            "marker": {
             "colorbar": {
              "outlinewidth": 0,
              "ticks": ""
             }
            },
            "type": "scattercarpet"
           }
          ],
          "scattergeo": [
           {
            "marker": {
             "colorbar": {
              "outlinewidth": 0,
              "ticks": ""
             }
            },
            "type": "scattergeo"
           }
          ],
          "scattergl": [
           {
            "marker": {
             "colorbar": {
              "outlinewidth": 0,
              "ticks": ""
             }
            },
            "type": "scattergl"
           }
          ],
          "scattermapbox": [
           {
            "marker": {
             "colorbar": {
              "outlinewidth": 0,
              "ticks": ""
             }
            },
            "type": "scattermapbox"
           }
          ],
          "scatterpolar": [
           {
            "marker": {
             "colorbar": {
              "outlinewidth": 0,
              "ticks": ""
             }
            },
            "type": "scatterpolar"
           }
          ],
          "scatterpolargl": [
           {
            "marker": {
             "colorbar": {
              "outlinewidth": 0,
              "ticks": ""
             }
            },
            "type": "scatterpolargl"
           }
          ],
          "scatterternary": [
           {
            "marker": {
             "colorbar": {
              "outlinewidth": 0,
              "ticks": ""
             }
            },
            "type": "scatterternary"
           }
          ],
          "surface": [
           {
            "colorbar": {
             "outlinewidth": 0,
             "ticks": ""
            },
            "colorscale": [
             [
              0,
              "#0d0887"
             ],
             [
              0.1111111111111111,
              "#46039f"
             ],
             [
              0.2222222222222222,
              "#7201a8"
             ],
             [
              0.3333333333333333,
              "#9c179e"
             ],
             [
              0.4444444444444444,
              "#bd3786"
             ],
             [
              0.5555555555555556,
              "#d8576b"
             ],
             [
              0.6666666666666666,
              "#ed7953"
             ],
             [
              0.7777777777777778,
              "#fb9f3a"
             ],
             [
              0.8888888888888888,
              "#fdca26"
             ],
             [
              1,
              "#f0f921"
             ]
            ],
            "type": "surface"
           }
          ],
          "table": [
           {
            "cells": {
             "fill": {
              "color": "#EBF0F8"
             },
             "line": {
              "color": "white"
             }
            },
            "header": {
             "fill": {
              "color": "#C8D4E3"
             },
             "line": {
              "color": "white"
             }
            },
            "type": "table"
           }
          ]
         },
         "layout": {
          "annotationdefaults": {
           "arrowcolor": "#2a3f5f",
           "arrowhead": 0,
           "arrowwidth": 1
          },
          "autotypenumbers": "strict",
          "coloraxis": {
           "colorbar": {
            "outlinewidth": 0,
            "ticks": ""
           }
          },
          "colorscale": {
           "diverging": [
            [
             0,
             "#8e0152"
            ],
            [
             0.1,
             "#c51b7d"
            ],
            [
             0.2,
             "#de77ae"
            ],
            [
             0.3,
             "#f1b6da"
            ],
            [
             0.4,
             "#fde0ef"
            ],
            [
             0.5,
             "#f7f7f7"
            ],
            [
             0.6,
             "#e6f5d0"
            ],
            [
             0.7,
             "#b8e186"
            ],
            [
             0.8,
             "#7fbc41"
            ],
            [
             0.9,
             "#4d9221"
            ],
            [
             1,
             "#276419"
            ]
           ],
           "sequential": [
            [
             0,
             "#0d0887"
            ],
            [
             0.1111111111111111,
             "#46039f"
            ],
            [
             0.2222222222222222,
             "#7201a8"
            ],
            [
             0.3333333333333333,
             "#9c179e"
            ],
            [
             0.4444444444444444,
             "#bd3786"
            ],
            [
             0.5555555555555556,
             "#d8576b"
            ],
            [
             0.6666666666666666,
             "#ed7953"
            ],
            [
             0.7777777777777778,
             "#fb9f3a"
            ],
            [
             0.8888888888888888,
             "#fdca26"
            ],
            [
             1,
             "#f0f921"
            ]
           ],
           "sequentialminus": [
            [
             0,
             "#0d0887"
            ],
            [
             0.1111111111111111,
             "#46039f"
            ],
            [
             0.2222222222222222,
             "#7201a8"
            ],
            [
             0.3333333333333333,
             "#9c179e"
            ],
            [
             0.4444444444444444,
             "#bd3786"
            ],
            [
             0.5555555555555556,
             "#d8576b"
            ],
            [
             0.6666666666666666,
             "#ed7953"
            ],
            [
             0.7777777777777778,
             "#fb9f3a"
            ],
            [
             0.8888888888888888,
             "#fdca26"
            ],
            [
             1,
             "#f0f921"
            ]
           ]
          },
          "colorway": [
           "#636efa",
           "#EF553B",
           "#00cc96",
           "#ab63fa",
           "#FFA15A",
           "#19d3f3",
           "#FF6692",
           "#B6E880",
           "#FF97FF",
           "#FECB52"
          ],
          "font": {
           "color": "#2a3f5f"
          },
          "geo": {
           "bgcolor": "white",
           "lakecolor": "white",
           "landcolor": "#E5ECF6",
           "showlakes": true,
           "showland": true,
           "subunitcolor": "white"
          },
          "hoverlabel": {
           "align": "left"
          },
          "hovermode": "closest",
          "mapbox": {
           "style": "light"
          },
          "paper_bgcolor": "white",
          "plot_bgcolor": "#E5ECF6",
          "polar": {
           "angularaxis": {
            "gridcolor": "white",
            "linecolor": "white",
            "ticks": ""
           },
           "bgcolor": "#E5ECF6",
           "radialaxis": {
            "gridcolor": "white",
            "linecolor": "white",
            "ticks": ""
           }
          },
          "scene": {
           "xaxis": {
            "backgroundcolor": "#E5ECF6",
            "gridcolor": "white",
            "gridwidth": 2,
            "linecolor": "white",
            "showbackground": true,
            "ticks": "",
            "zerolinecolor": "white"
           },
           "yaxis": {
            "backgroundcolor": "#E5ECF6",
            "gridcolor": "white",
            "gridwidth": 2,
            "linecolor": "white",
            "showbackground": true,
            "ticks": "",
            "zerolinecolor": "white"
           },
           "zaxis": {
            "backgroundcolor": "#E5ECF6",
            "gridcolor": "white",
            "gridwidth": 2,
            "linecolor": "white",
            "showbackground": true,
            "ticks": "",
            "zerolinecolor": "white"
           }
          },
          "shapedefaults": {
           "line": {
            "color": "#2a3f5f"
           }
          },
          "ternary": {
           "aaxis": {
            "gridcolor": "white",
            "linecolor": "white",
            "ticks": ""
           },
           "baxis": {
            "gridcolor": "white",
            "linecolor": "white",
            "ticks": ""
           },
           "bgcolor": "#E5ECF6",
           "caxis": {
            "gridcolor": "white",
            "linecolor": "white",
            "ticks": ""
           }
          },
          "title": {
           "x": 0.05
          },
          "xaxis": {
           "automargin": true,
           "gridcolor": "white",
           "linecolor": "white",
           "ticks": "",
           "title": {
            "standoff": 15
           },
           "zerolinecolor": "white",
           "zerolinewidth": 2
          },
          "yaxis": {
           "automargin": true,
           "gridcolor": "white",
           "linecolor": "white",
           "ticks": "",
           "title": {
            "standoff": 15
           },
           "zerolinecolor": "white",
           "zerolinewidth": 2
          }
         }
        },
        "title": {
         "text": "Profit per Bet by Votes Threshold and Discrepancy"
        },
        "width": 900
       }
      }
     },
     "metadata": {},
     "output_type": "display_data"
    }
   ],
   "source": [
    "profit_per_bet = bets.groupby(['votes threshold', 'discrepancy']).apply(lambda x: x['Profit'].sum() / len(x)).reset_index(name='profit_per_bet')\n",
    "\n",
    "# Pivot table to get grid\n",
    "pivot = profit_per_bet.pivot(index='discrepancy', columns='votes threshold', values='profit_per_bet')\n",
    "\n",
    "X = pivot.columns.values\n",
    "Y = pivot.index.values\n",
    "X, Y = np.meshgrid(X, Y)\n",
    "Z = pivot.values\n",
    "\n",
    "import plotly.graph_objects as go\n",
    "\n",
    "fig = go.Figure(data=[go.Surface(\n",
    "    z=Z, x=X, y=Y, colorscale='Viridis', \n",
    "    contours={\"z\": {\"show\": True, \"usecolormap\": True, \"highlightcolor\": \"limegreen\", \"project_z\": True}}\n",
    ")])\n",
    "\n",
    "fig.update_layout(\n",
    "    title='Profit per Bet by Votes Threshold and Discrepancy',\n",
    "    scene=dict(\n",
    "        xaxis_title='Votes Threshold',\n",
    "        yaxis_title='Discrepancy',\n",
    "        zaxis_title='Profit per Bet'\n",
    "    ),\n",
    "    autosize=True,\n",
    "    width=900,\n",
    "    height=700,\n",
    "    margin=dict(l=50, r=50, b=50, t=50)\n",
    ")\n",
    "\n",
    "fig.show()"
   ]
  }
 ],
 "metadata": {
  "kernelspec": {
   "display_name": "base",
   "language": "python",
   "name": "python3"
  },
  "language_info": {
   "codemirror_mode": {
    "name": "ipython",
    "version": 3
   },
   "file_extension": ".py",
   "mimetype": "text/x-python",
   "name": "python",
   "nbconvert_exporter": "python",
   "pygments_lexer": "ipython3",
   "version": "3.12.4"
  }
 },
 "nbformat": 4,
 "nbformat_minor": 5
}
